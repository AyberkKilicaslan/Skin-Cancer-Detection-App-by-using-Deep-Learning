{
 "cells": [
  {
   "cell_type": "code",
   "execution_count": 1,
   "id": "9155cc6b",
   "metadata": {},
   "outputs": [],
   "source": [
    "import os\n",
    "from PIL import Image\n",
    "import matplotlib.pyplot as plt\n",
    "import cv2\n",
    "import numpy as np\n",
    "from tqdm import tqdm"
   ]
  },
  {
   "cell_type": "code",
   "execution_count": 57,
   "id": "d13b6193",
   "metadata": {},
   "outputs": [],
   "source": [
    "path = 'melanoma'\n",
    "all_images = os.listdir(path)"
   ]
  },
  {
   "cell_type": "code",
   "execution_count": 58,
   "id": "140ee54d",
   "metadata": {},
   "outputs": [],
   "source": [
    "path_list = []\n",
    "i = 0\n",
    "for ix in os.listdir(path):\n",
    "    out = path +\"/\" + all_images[i]\n",
    "    path_list.append(out)\n",
    "    i = i + 1"
   ]
  },
  {
   "cell_type": "code",
   "execution_count": 59,
   "id": "7bb4b51c",
   "metadata": {},
   "outputs": [
    {
     "name": "stderr",
     "output_type": "stream",
     "text": [
      "100%|██████████| 4120/4120 [02:24<00:00, 28.44it/s]\n"
     ]
    }
   ],
   "source": [
    "for x in tqdm(path_list):\n",
    "    a = cv2.imread(x)\n",
    "    name = x.split('/')[1]\n",
    "    if a[0][0][0] < 3 and a[0][0][1] < 3 and a[0][0][2] < 3:\n",
    "        name = \"fish/\" + name\n",
    "        cv2.imwrite(name, a)\n",
    "    else:\n",
    "        name = \"nonfish/\" + name\n",
    "        cv2.imwrite(name, a)\n",
    "    \n",
    "    "
   ]
  },
  {
   "cell_type": "markdown",
   "id": "a4350a39",
   "metadata": {},
   "source": [
    "# SMALL MID BIG"
   ]
  },
  {
   "cell_type": "code",
   "execution_count": 79,
   "id": "715d3355",
   "metadata": {},
   "outputs": [],
   "source": [
    "from defisheye import Defisheye\n",
    "dtype = 'linear'\n",
    "format = 'fullframe'\n",
    "fov = 90\n",
    "pfov = 65"
   ]
  },
  {
   "cell_type": "code",
   "execution_count": 80,
   "id": "091b246c",
   "metadata": {},
   "outputs": [],
   "source": [
    "path = 'fish'\n",
    "all_images = os.listdir(path)"
   ]
  },
  {
   "cell_type": "code",
   "execution_count": 81,
   "id": "18ac56e1",
   "metadata": {},
   "outputs": [],
   "source": [
    "path_list = []\n",
    "i = 0\n",
    "for ix in os.listdir(path):\n",
    "    out = path +\"/\" + all_images[i]\n",
    "    path_list.append(out)\n",
    "    i = i + 1"
   ]
  },
  {
   "cell_type": "code",
   "execution_count": 83,
   "id": "b5ab2cc9",
   "metadata": {},
   "outputs": [
    {
     "name": "stderr",
     "output_type": "stream",
     "text": [
      "100%|██████████| 1215/1215 [16:45<00:00,  1.21it/s]\n"
     ]
    }
   ],
   "source": [
    "for i in tqdm(path_list):\n",
    "    a = cv2.imread(i)\n",
    "    a = cv2.resize(a,(512,512))\n",
    "    count = 0\n",
    "    for x in a:\n",
    "        for j in x:\n",
    "            if j[0] < 3 and j[1] < 3 and j[2] < 3:\n",
    "                count = count + 1\n",
    "    if count>100000:\n",
    "        fov = 150\n",
    "        pfov = 65\n",
    "        \n",
    "    elif count<100000 and count>40000:\n",
    "        fov = 110\n",
    "        pfov = 70\n",
    "    else:\n",
    "        fov = 95\n",
    "        pfov = 65\n",
    "    name = i.split('/')[1]    \n",
    "    obj = Defisheye(a, dtype=dtype, format=format, fov=fov, pfov=pfov)\n",
    "    obj.convert(\"big/\" + name)    \n",
    "        "
   ]
  },
  {
   "cell_type": "markdown",
   "id": "cceff3ea",
   "metadata": {},
   "source": [
    "# Resize nonfish "
   ]
  },
  {
   "cell_type": "code",
   "execution_count": 84,
   "id": "f9a73fd9",
   "metadata": {},
   "outputs": [],
   "source": [
    "path = 'nonfish'\n",
    "all_images = os.listdir(path)"
   ]
  },
  {
   "cell_type": "code",
   "execution_count": 85,
   "id": "00d80d71",
   "metadata": {},
   "outputs": [],
   "source": [
    "path_list = []\n",
    "i = 0\n",
    "for ix in os.listdir(path):\n",
    "    out = path +\"/\" + all_images[i]\n",
    "    path_list.append(out)\n",
    "    i = i + 1"
   ]
  },
  {
   "cell_type": "code",
   "execution_count": 86,
   "id": "7491ceb7",
   "metadata": {},
   "outputs": [
    {
     "name": "stderr",
     "output_type": "stream",
     "text": [
      "100%|██████████| 2905/2905 [01:09<00:00, 41.84it/s]\n"
     ]
    }
   ],
   "source": [
    "for x in tqdm(path_list):\n",
    "    a = cv2.imread(x)\n",
    "    a = cv2.resize(a,(512,512))\n",
    "    \n",
    "    name = x.split('/')[1]\n",
    "    \n",
    "    name = \"mid/\" + name\n",
    "    cv2.imwrite(name, a)\n"
   ]
  },
  {
   "cell_type": "code",
   "execution_count": null,
   "id": "b72ebd76",
   "metadata": {},
   "outputs": [],
   "source": []
  }
 ],
 "metadata": {
  "kernelspec": {
   "display_name": "Python 3",
   "language": "python",
   "name": "python3"
  },
  "language_info": {
   "codemirror_mode": {
    "name": "ipython",
    "version": 3
   },
   "file_extension": ".py",
   "mimetype": "text/x-python",
   "name": "python",
   "nbconvert_exporter": "python",
   "pygments_lexer": "ipython3",
   "version": "3.8.8"
  }
 },
 "nbformat": 4,
 "nbformat_minor": 5
}
