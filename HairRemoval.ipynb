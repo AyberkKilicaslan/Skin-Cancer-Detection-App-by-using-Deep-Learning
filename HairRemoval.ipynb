{
 "cells": [
  {
   "cell_type": "code",
   "execution_count": 4,
   "id": "2d4288d6",
   "metadata": {},
   "outputs": [],
   "source": [
    "import cv2\n",
    "import matplotlib.pyplot as plt\n",
    "import os\n",
    "from PIL import Image\n",
    "import numpy as np\n",
    "from tqdm import tqdm"
   ]
  },
  {
   "cell_type": "code",
   "execution_count": 5,
   "id": "01a203fd",
   "metadata": {},
   "outputs": [],
   "source": [
    "def hair_remove(image):\n",
    "    # convert image to grayScale\n",
    "    grayScale = cv2.cvtColor(image, cv2.COLOR_RGB2GRAY)\n",
    "\n",
    "    # kernel for morphologyEx\n",
    "    kernel = cv2.getStructuringElement(1,(17,17))\n",
    "\n",
    "    # apply MORPH_BLACKHAT to grayScale image\n",
    "    blackhat = cv2.morphologyEx(grayScale, cv2.MORPH_BLACKHAT, kernel)\n",
    "\n",
    "    # apply thresholding to blackhat\n",
    "    _,threshold = cv2.threshold(blackhat,10,255,cv2.THRESH_BINARY)\n",
    "\n",
    "    # inpaint with original image and threshold image\n",
    "    final_image = cv2.inpaint(image,threshold,1,cv2.INPAINT_TELEA)\n",
    "    return final_image"
   ]
  },
  {
   "cell_type": "code",
   "execution_count": 9,
   "id": "50cb33a8",
   "metadata": {},
   "outputs": [],
   "source": [
    "path = 'resizedeyefish'\n",
    "all_images = os.listdir(path)"
   ]
  },
  {
   "cell_type": "code",
   "execution_count": 10,
   "id": "918e171d",
   "metadata": {},
   "outputs": [],
   "source": [
    "path_list = []\n",
    "i = 0\n",
    "for ix in os.listdir(path):\n",
    "    out = path +\"/\" + all_images[i]\n",
    "    path_list.append(out)\n",
    "    i = i + 1"
   ]
  },
  {
   "cell_type": "code",
   "execution_count": 11,
   "id": "0fa70877",
   "metadata": {},
   "outputs": [
    {
     "name": "stderr",
     "output_type": "stream",
     "text": [
      "100%|██████████| 1215/1215 [14:01<00:00,  1.44it/s]\n"
     ]
    }
   ],
   "source": [
    "for x in tqdm(path_list):\n",
    "    a = cv2.imread(x)\n",
    "    a = hair_remove(a)\n",
    "    \n",
    "    name = x.split('/')[1]\n",
    "    \n",
    "    name = \"hairremoved/\" + name\n",
    "    cv2.imwrite(name, a)\n"
   ]
  },
  {
   "cell_type": "code",
   "execution_count": null,
   "id": "592a30a0",
   "metadata": {},
   "outputs": [],
   "source": []
  }
 ],
 "metadata": {
  "kernelspec": {
   "display_name": "Python 3",
   "language": "python",
   "name": "python3"
  },
  "language_info": {
   "codemirror_mode": {
    "name": "ipython",
    "version": 3
   },
   "file_extension": ".py",
   "mimetype": "text/x-python",
   "name": "python",
   "nbconvert_exporter": "python",
   "pygments_lexer": "ipython3",
   "version": "3.8.8"
  }
 },
 "nbformat": 4,
 "nbformat_minor": 5
}
