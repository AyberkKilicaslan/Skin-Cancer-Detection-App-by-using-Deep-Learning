{
 "cells": [
  {
   "cell_type": "code",
   "execution_count": 273,
   "metadata": {},
   "outputs": [],
   "source": [
    "from defisheye import Defisheye\n",
    "import os\n",
    "from PIL import Image\n",
    "dtype = 'linear'\n",
    "format = 'fullframe'\n",
    "fov = 150\n",
    "pfov = 65\n",
    "\n",
    "\n",
    "path = 'very_small_fisheye'\n",
    "all_images = os.listdir(path)"
   ]
  },
  {
   "cell_type": "code",
   "execution_count": 274,
   "metadata": {},
   "outputs": [
    {
     "data": {
      "text/plain": [
       "'melanoma1669.jpg'"
      ]
     },
     "execution_count": 274,
     "metadata": {},
     "output_type": "execute_result"
    }
   ],
   "source": [
    "all_images[0]"
   ]
  },
  {
   "cell_type": "code",
   "execution_count": 275,
   "metadata": {},
   "outputs": [],
   "source": [
    "path_list = []\n",
    "i = 0\n",
    "for ix in os.listdir(path):\n",
    "    out = path +\"/\" + all_images[i]\n",
    "    path_list.append(out)\n",
    "    i = i + 1"
   ]
  },
  {
   "cell_type": "code",
   "execution_count": 276,
   "metadata": {},
   "outputs": [
    {
     "name": "stdout",
     "output_type": "stream",
     "text": [
      "vs_processed/melanoma1669.jpg\n",
      "vs_processed/melanoma1671.jpg\n",
      "vs_processed/melanoma1681.jpg\n",
      "vs_processed/melanoma1682.jpg\n",
      "vs_processed/melanoma1683.jpg\n",
      "vs_processed/melanoma1686.jpg\n",
      "vs_processed/melanoma1696.jpg\n",
      "vs_processed/melanoma1697.jpg\n",
      "vs_processed/melanoma1698.jpg\n",
      "vs_processed/melanoma1709.jpg\n",
      "vs_processed/melanoma1715.jpg\n",
      "vs_processed/melanoma1718.jpg\n",
      "vs_processed/melanoma1721.jpg\n",
      "vs_processed/melanoma1730.jpg\n",
      "vs_processed/melanoma1732.jpg\n",
      "vs_processed/melanoma1735.jpg\n",
      "vs_processed/melanoma1740.jpg\n",
      "vs_processed/melanoma1747.jpg\n",
      "vs_processed/melanoma1748.jpg\n",
      "vs_processed/melanoma1760.jpg\n",
      "vs_processed/melanoma1763.jpg\n",
      "vs_processed/melanoma1765.jpg\n",
      "vs_processed/melanoma1774.jpg\n",
      "vs_processed/melanoma1775.jpg\n",
      "vs_processed/melanoma1777.jpg\n",
      "vs_processed/melanoma1781.jpg\n",
      "vs_processed/melanoma1783.jpg\n",
      "vs_processed/melanoma1787.jpg\n",
      "vs_processed/melanoma1795.jpg\n",
      "vs_processed/melanoma1809.jpg\n",
      "vs_processed/melanoma1815.jpg\n",
      "vs_processed/melanoma1817.jpg\n",
      "vs_processed/melanoma1819.jpg\n",
      "vs_processed/melanoma1821.jpg\n",
      "vs_processed/melanoma1824.jpg\n",
      "vs_processed/melanoma1833.jpg\n",
      "vs_processed/melanoma1839.jpg\n",
      "vs_processed/melanoma1843.jpg\n",
      "vs_processed/melanoma1845.jpg\n",
      "vs_processed/melanoma1849.jpg\n",
      "vs_processed/melanoma1856.jpg\n",
      "vs_processed/melanoma1857.jpg\n",
      "vs_processed/melanoma1873.jpg\n",
      "vs_processed/melanoma1879.jpg\n",
      "vs_processed/melanoma1883.jpg\n",
      "vs_processed/melanoma1886.jpg\n",
      "vs_processed/melanoma1887.jpg\n",
      "vs_processed/melanoma1890.jpg\n",
      "vs_processed/melanoma1892.jpg\n",
      "vs_processed/melanoma1895.jpg\n",
      "vs_processed/melanoma1898.jpg\n",
      "vs_processed/melanoma1913.jpg\n",
      "vs_processed/melanoma1922.jpg\n",
      "vs_processed/melanoma1924.jpg\n",
      "vs_processed/melanoma1925.jpg\n",
      "vs_processed/melanoma1926.jpg\n",
      "vs_processed/melanoma1928.jpg\n",
      "vs_processed/melanoma1939.jpg\n",
      "vs_processed/melanoma1954.jpg\n",
      "vs_processed/melanoma1966.jpg\n",
      "vs_processed/melanoma1967.jpg\n",
      "vs_processed/melanoma4259.jpg\n",
      "vs_processed/melanoma4260.jpg\n",
      "vs_processed/melanoma4271.jpg\n",
      "vs_processed/melanoma4284.jpg\n",
      "vs_processed/melanoma4285.jpg\n",
      "vs_processed/melanoma4291.jpg\n",
      "vs_processed/melanoma4293.jpg\n",
      "vs_processed/melanoma4295.jpg\n",
      "vs_processed/melanoma4309.jpg\n",
      "vs_processed/melanoma4311.jpg\n",
      "vs_processed/melanoma4317.jpg\n",
      "vs_processed/melanoma4318.jpg\n",
      "vs_processed/melanoma4322.jpg\n",
      "vs_processed/melanoma4323.jpg\n",
      "vs_processed/melanoma4338.jpg\n",
      "vs_processed/melanoma4342.jpg\n",
      "vs_processed/melanoma4343.jpg\n",
      "vs_processed/melanoma4344.jpg\n",
      "vs_processed/melanoma4346.jpg\n",
      "vs_processed/melanoma4348.jpg\n",
      "vs_processed/melanoma4349.jpg\n",
      "vs_processed/melanoma4352.jpg\n",
      "vs_processed/melanoma4359.jpg\n",
      "vs_processed/melanoma4360.jpg\n",
      "vs_processed/melanoma4382.jpg\n",
      "vs_processed/melanoma4387.jpg\n",
      "vs_processed/melanoma4388.jpg\n",
      "vs_processed/melanoma4396.jpg\n",
      "vs_processed/melanoma4412.jpg\n",
      "vs_processed/melanoma4417.jpg\n",
      "vs_processed/melanoma4419.jpg\n",
      "vs_processed/melanoma4424.jpg\n",
      "vs_processed/melanoma4427.jpg\n",
      "vs_processed/melanoma4433.jpg\n",
      "vs_processed/melanoma4438.jpg\n",
      "vs_processed/melanoma4439.jpg\n",
      "vs_processed/melanoma4444.jpg\n",
      "vs_processed/melanoma4462.jpg\n",
      "vs_processed/melanoma4464.jpg\n",
      "vs_processed/melanoma4465.jpg\n",
      "vs_processed/melanoma4470.jpg\n",
      "vs_processed/melanoma4472.jpg\n",
      "vs_processed/melanoma4475.jpg\n",
      "vs_processed/melanoma4486.jpg\n",
      "vs_processed/melanoma4496.jpg\n",
      "vs_processed/melanoma4497.jpg\n",
      "vs_processed/melanoma4501.jpg\n",
      "vs_processed/melanoma4502.jpg\n",
      "vs_processed/melanoma4510.jpg\n",
      "vs_processed/melanoma4518.jpg\n"
     ]
    }
   ],
   "source": [
    "for x in path_list:\n",
    "    name = x.split('/')[1]\n",
    "    obj = Defisheye(x, dtype=dtype, format=format, fov=fov, pfov=pfov)\n",
    "    out = \"vs_processed/\" + name\n",
    "    print(out)\n",
    "    obj.convert(out)\n",
    "    \n",
    "    \n",
    "    "
   ]
  },
  {
   "cell_type": "code",
   "execution_count": null,
   "metadata": {},
   "outputs": [],
   "source": []
  },
  {
   "cell_type": "code",
   "execution_count": null,
   "metadata": {},
   "outputs": [],
   "source": []
  }
 ],
 "metadata": {
  "kernelspec": {
   "display_name": "Python 3",
   "language": "python",
   "name": "python3"
  },
  "language_info": {
   "codemirror_mode": {
    "name": "ipython",
    "version": 3
   },
   "file_extension": ".py",
   "mimetype": "text/x-python",
   "name": "python",
   "nbconvert_exporter": "python",
   "pygments_lexer": "ipython3",
   "version": "3.6.13"
  }
 },
 "nbformat": 4,
 "nbformat_minor": 2
}
